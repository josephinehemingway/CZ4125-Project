{
 "cells": [
  {
   "cell_type": "code",
   "execution_count": 1,
   "metadata": {},
   "outputs": [
    {
     "name": "stdout",
     "output_type": "stream",
     "text": [
      "Collecting TikTokApi\n",
      "  Using cached TikTokApi-5.2.2.tar.gz (65 kB)\n",
      "  Preparing metadata (setup.py) ... \u001b[?25ldone\n",
      "\u001b[?25hRequirement already satisfied: Pandas in /Users/josephinehemingway/opt/anaconda3/lib/python3.8/site-packages (1.4.3)\n",
      "Requirement already satisfied: requests in /Users/josephinehemingway/opt/anaconda3/lib/python3.8/site-packages (from TikTokApi) (2.24.0)\n",
      "Collecting playwright\n",
      "  Downloading playwright-1.25.2-py3-none-macosx_10_13_x86_64.whl (30.6 MB)\n",
      "     |████████████████████████████████| 30.6 MB 6.5 MB/s             \n",
      "\u001b[?25hRequirement already satisfied: pytz>=2020.1 in /Users/josephinehemingway/opt/anaconda3/lib/python3.8/site-packages (from Pandas) (2020.1)\n",
      "Requirement already satisfied: numpy>=1.18.5 in /Users/josephinehemingway/opt/anaconda3/lib/python3.8/site-packages (from Pandas) (1.23.1)\n",
      "Requirement already satisfied: python-dateutil>=2.8.1 in /Users/josephinehemingway/opt/anaconda3/lib/python3.8/site-packages (from Pandas) (2.8.1)\n",
      "Requirement already satisfied: six>=1.5 in /Users/josephinehemingway/opt/anaconda3/lib/python3.8/site-packages (from python-dateutil>=2.8.1->Pandas) (1.15.0)\n",
      "Collecting websockets==10.1\n",
      "  Downloading websockets-10.1-cp38-cp38-macosx_10_9_x86_64.whl (96 kB)\n",
      "     |████████████████████████████████| 96 kB 7.6 MB/s             \n",
      "\u001b[?25hCollecting greenlet==1.1.2\n",
      "  Downloading greenlet-1.1.2-cp38-cp38-macosx_10_14_x86_64.whl (92 kB)\n",
      "     |████████████████████████████████| 92 kB 3.8 MB/s             \n",
      "\u001b[?25hCollecting pyee==8.1.0\n",
      "  Using cached pyee-8.1.0-py2.py3-none-any.whl (12 kB)\n",
      "Requirement already satisfied: typing-extensions in /Users/josephinehemingway/opt/anaconda3/lib/python3.8/site-packages (from playwright->TikTokApi) (3.10.0.2)\n",
      "Requirement already satisfied: urllib3!=1.25.0,!=1.25.1,<1.26,>=1.21.1 in /Users/josephinehemingway/opt/anaconda3/lib/python3.8/site-packages (from requests->TikTokApi) (1.25.9)\n",
      "Requirement already satisfied: idna<3,>=2.5 in /Users/josephinehemingway/opt/anaconda3/lib/python3.8/site-packages (from requests->TikTokApi) (2.10)\n",
      "Requirement already satisfied: chardet<4,>=3.0.2 in /Users/josephinehemingway/opt/anaconda3/lib/python3.8/site-packages (from requests->TikTokApi) (3.0.4)\n",
      "Requirement already satisfied: certifi>=2017.4.17 in /Users/josephinehemingway/opt/anaconda3/lib/python3.8/site-packages (from requests->TikTokApi) (2020.6.20)\n",
      "Building wheels for collected packages: TikTokApi\n",
      "  Building wheel for TikTokApi (setup.py) ... \u001b[?25ldone\n",
      "\u001b[?25h  Created wheel for TikTokApi: filename=TikTokApi-5.2.2-py3-none-any.whl size=74009 sha256=fba5d82d85bbef7bbf6dbf5af9f6f93f7a580a9c6602fb83c5d13b4532b60fef\n",
      "  Stored in directory: /Users/josephinehemingway/Library/Caches/pip/wheels/1b/8a/8d/bbd4ee02c212db25112e86e3ec022c96775beebad9e82be986\n",
      "Successfully built TikTokApi\n",
      "Installing collected packages: websockets, pyee, greenlet, playwright, TikTokApi\n",
      "  Attempting uninstall: greenlet\n",
      "    Found existing installation: greenlet 0.4.16\n",
      "    Uninstalling greenlet-0.4.16:\n",
      "      Successfully uninstalled greenlet-0.4.16\n",
      "Successfully installed TikTokApi-5.2.2 greenlet-1.1.2 playwright-1.25.2 pyee-8.1.0 websockets-10.1\n",
      "\u001b[33mWARNING: You are using pip version 21.3; however, version 22.2.2 is available.\n",
      "You should consider upgrading via the '/Users/josephinehemingway/opt/anaconda3/bin/python -m pip install --upgrade pip' command.\u001b[0m\n",
      "Note: you may need to restart the kernel to use updated packages.\n"
     ]
    }
   ],
   "source": [
    "pip install TikTokApi Pandas"
   ]
  },
  {
   "cell_type": "code",
   "execution_count": 2,
   "metadata": {},
   "outputs": [
    {
     "ename": "RuntimeError",
     "evalue": "This event loop is already running",
     "output_type": "error",
     "traceback": [
      "\u001b[0;31m---------------------------------------------------------------------------\u001b[0m",
      "\u001b[0;31mRuntimeError\u001b[0m                              Traceback (most recent call last)",
      "\u001b[0;32m<ipython-input-2-c10abe4eed5b>\u001b[0m in \u001b[0;36m<module>\u001b[0;34m\u001b[0m\n\u001b[1;32m      2\u001b[0m \u001b[0;32mimport\u001b[0m \u001b[0mpandas\u001b[0m \u001b[0;32mas\u001b[0m \u001b[0mpd\u001b[0m\u001b[0;34m\u001b[0m\u001b[0;34m\u001b[0m\u001b[0m\n\u001b[1;32m      3\u001b[0m \u001b[0;34m\u001b[0m\u001b[0m\n\u001b[0;32m----> 4\u001b[0;31m \u001b[0mapi\u001b[0m \u001b[0;34m=\u001b[0m \u001b[0mTikTokApi\u001b[0m\u001b[0;34m(\u001b[0m\u001b[0;34m)\u001b[0m\u001b[0;34m\u001b[0m\u001b[0;34m\u001b[0m\u001b[0m\n\u001b[0m\u001b[1;32m      5\u001b[0m \u001b[0;34m\u001b[0m\u001b[0m\n\u001b[1;32m      6\u001b[0m \u001b[0mtrending_videos\u001b[0m \u001b[0;34m=\u001b[0m \u001b[0mapi\u001b[0m\u001b[0;34m.\u001b[0m\u001b[0mby_trending\u001b[0m\u001b[0;34m(\u001b[0m\u001b[0;34m)\u001b[0m\u001b[0;34m\u001b[0m\u001b[0;34m\u001b[0m\u001b[0m\n",
      "\u001b[0;32m~/opt/anaconda3/lib/python3.8/site-packages/TikTokApi/tiktok.py\u001b[0m in \u001b[0;36m__init__\u001b[0;34m(self, logging_level, request_delay, custom_device_id, generate_static_device_id, custom_verify_fp, use_test_endpoints, proxy, executable_path, *args, **kwargs)\u001b[0m\n\u001b[1;32m    157\u001b[0m \u001b[0;34m\u001b[0m\u001b[0m\n\u001b[1;32m    158\u001b[0m         \u001b[0;32mwith\u001b[0m \u001b[0m_thread_lock\u001b[0m\u001b[0;34m:\u001b[0m\u001b[0;34m\u001b[0m\u001b[0;34m\u001b[0m\u001b[0m\n\u001b[0;32m--> 159\u001b[0;31m             self._initialize(\n\u001b[0m\u001b[1;32m    160\u001b[0m                 \u001b[0mrequest_delay\u001b[0m\u001b[0;34m=\u001b[0m\u001b[0mrequest_delay\u001b[0m\u001b[0;34m,\u001b[0m\u001b[0;34m\u001b[0m\u001b[0;34m\u001b[0m\u001b[0m\n\u001b[1;32m    161\u001b[0m                 \u001b[0mcustom_device_id\u001b[0m\u001b[0;34m=\u001b[0m\u001b[0mcustom_device_id\u001b[0m\u001b[0;34m,\u001b[0m\u001b[0;34m\u001b[0m\u001b[0;34m\u001b[0m\u001b[0m\n",
      "\u001b[0;32m~/opt/anaconda3/lib/python3.8/site-packages/TikTokApi/tiktok.py\u001b[0m in \u001b[0;36m_initialize\u001b[0;34m(self, **kwargs)\u001b[0m\n\u001b[1;32m    203\u001b[0m \u001b[0;34m\u001b[0m\u001b[0m\n\u001b[1;32m    204\u001b[0m         \u001b[0;32mif\u001b[0m \u001b[0mself\u001b[0m\u001b[0;34m.\u001b[0m\u001b[0m_signer_url\u001b[0m \u001b[0;32mis\u001b[0m \u001b[0;32mNone\u001b[0m\u001b[0;34m:\u001b[0m\u001b[0;34m\u001b[0m\u001b[0;34m\u001b[0m\u001b[0m\n\u001b[0;32m--> 205\u001b[0;31m             self._browser = asyncio.get_event_loop().run_until_complete(\n\u001b[0m\u001b[1;32m    206\u001b[0m                 \u001b[0masyncio\u001b[0m\u001b[0;34m.\u001b[0m\u001b[0mgather\u001b[0m\u001b[0;34m(\u001b[0m\u001b[0mbrowser\u001b[0m\u001b[0;34m.\u001b[0m\u001b[0mcreate\u001b[0m\u001b[0;34m(\u001b[0m\u001b[0;34m**\u001b[0m\u001b[0mkwargs\u001b[0m\u001b[0;34m)\u001b[0m\u001b[0;34m)\u001b[0m\u001b[0;34m\u001b[0m\u001b[0;34m\u001b[0m\u001b[0m\n\u001b[1;32m    207\u001b[0m             )[0]\n",
      "\u001b[0;32m~/opt/anaconda3/lib/python3.8/asyncio/base_events.py\u001b[0m in \u001b[0;36mrun_until_complete\u001b[0;34m(self, future)\u001b[0m\n\u001b[1;32m    590\u001b[0m         \"\"\"\n\u001b[1;32m    591\u001b[0m         \u001b[0mself\u001b[0m\u001b[0;34m.\u001b[0m\u001b[0m_check_closed\u001b[0m\u001b[0;34m(\u001b[0m\u001b[0;34m)\u001b[0m\u001b[0;34m\u001b[0m\u001b[0;34m\u001b[0m\u001b[0m\n\u001b[0;32m--> 592\u001b[0;31m         \u001b[0mself\u001b[0m\u001b[0;34m.\u001b[0m\u001b[0m_check_running\u001b[0m\u001b[0;34m(\u001b[0m\u001b[0;34m)\u001b[0m\u001b[0;34m\u001b[0m\u001b[0;34m\u001b[0m\u001b[0m\n\u001b[0m\u001b[1;32m    593\u001b[0m \u001b[0;34m\u001b[0m\u001b[0m\n\u001b[1;32m    594\u001b[0m         \u001b[0mnew_task\u001b[0m \u001b[0;34m=\u001b[0m \u001b[0;32mnot\u001b[0m \u001b[0mfutures\u001b[0m\u001b[0;34m.\u001b[0m\u001b[0misfuture\u001b[0m\u001b[0;34m(\u001b[0m\u001b[0mfuture\u001b[0m\u001b[0;34m)\u001b[0m\u001b[0;34m\u001b[0m\u001b[0;34m\u001b[0m\u001b[0m\n",
      "\u001b[0;32m~/opt/anaconda3/lib/python3.8/asyncio/base_events.py\u001b[0m in \u001b[0;36m_check_running\u001b[0;34m(self)\u001b[0m\n\u001b[1;32m    550\u001b[0m     \u001b[0;32mdef\u001b[0m \u001b[0m_check_running\u001b[0m\u001b[0;34m(\u001b[0m\u001b[0mself\u001b[0m\u001b[0;34m)\u001b[0m\u001b[0;34m:\u001b[0m\u001b[0;34m\u001b[0m\u001b[0;34m\u001b[0m\u001b[0m\n\u001b[1;32m    551\u001b[0m         \u001b[0;32mif\u001b[0m \u001b[0mself\u001b[0m\u001b[0;34m.\u001b[0m\u001b[0mis_running\u001b[0m\u001b[0;34m(\u001b[0m\u001b[0;34m)\u001b[0m\u001b[0;34m:\u001b[0m\u001b[0;34m\u001b[0m\u001b[0;34m\u001b[0m\u001b[0m\n\u001b[0;32m--> 552\u001b[0;31m             \u001b[0;32mraise\u001b[0m \u001b[0mRuntimeError\u001b[0m\u001b[0;34m(\u001b[0m\u001b[0;34m'This event loop is already running'\u001b[0m\u001b[0;34m)\u001b[0m\u001b[0;34m\u001b[0m\u001b[0;34m\u001b[0m\u001b[0m\n\u001b[0m\u001b[1;32m    553\u001b[0m         \u001b[0;32mif\u001b[0m \u001b[0mevents\u001b[0m\u001b[0;34m.\u001b[0m\u001b[0m_get_running_loop\u001b[0m\u001b[0;34m(\u001b[0m\u001b[0;34m)\u001b[0m \u001b[0;32mis\u001b[0m \u001b[0;32mnot\u001b[0m \u001b[0;32mNone\u001b[0m\u001b[0;34m:\u001b[0m\u001b[0;34m\u001b[0m\u001b[0;34m\u001b[0m\u001b[0m\n\u001b[1;32m    554\u001b[0m             raise RuntimeError(\n",
      "\u001b[0;31mRuntimeError\u001b[0m: This event loop is already running"
     ]
    }
   ],
   "source": [
    "from TikTokApi import TikTokApi\n",
    "import pandas as pd\n",
    "\n",
    "api = TikTokApi()\n",
    "\n",
    "trending_videos = api.by_trending()\n",
    "for video in api.hashtag(name='funny').videos(count=1):\n",
    "    # The dictionary responses are also different depending on what endpoint you got them from\n",
    "    # So, it's usually more painful than this to deal with\n",
    "   print(video.author.username)"
   ]
  },
  {
   "cell_type": "code",
   "execution_count": null,
   "metadata": {},
   "outputs": [],
   "source": []
  }
 ],
 "metadata": {
  "kernelspec": {
   "display_name": "Python 3",
   "language": "python",
   "name": "python3"
  },
  "language_info": {
   "codemirror_mode": {
    "name": "ipython",
    "version": 3
   },
   "file_extension": ".py",
   "mimetype": "text/x-python",
   "name": "python",
   "nbconvert_exporter": "python",
   "pygments_lexer": "ipython3",
   "version": "3.8.3"
  },
  "vscode": {
   "interpreter": {
    "hash": "aee8b7b246df8f9039afb4144a1f6fd8d2ca17a180786b69acc140d282b71a49"
   }
  }
 },
 "nbformat": 4,
 "nbformat_minor": 2
}
