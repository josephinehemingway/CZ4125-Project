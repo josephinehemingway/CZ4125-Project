{
 "cells": [
  {
   "cell_type": "code",
   "execution_count": 10,
   "metadata": {},
   "outputs": [],
   "source": [
    "import requests\n",
    "from bs4 import BeautifulSoup\n",
    "import prettify"
   ]
  },
  {
   "cell_type": "code",
   "execution_count": 15,
   "metadata": {},
   "outputs": [
    {
     "name": "stdout",
     "output_type": "stream",
     "text": [
      "<html>\n",
      " <head>\n",
      "  <title>\n",
      "   klook.com\n",
      "  </title>\n",
      "  <style>\n",
      "   #cmsg{animation: A 1.5s;}@keyframes A{0%{opacity:0;}99%{opacity:0;}100%{opacity:1;}}\n",
      "  </style>\n",
      " </head>\n",
      " <body style=\"margin:0\">\n",
      "  <p id=\"cmsg\">\n",
      "   Please enable JS and disable any ad blocker\n",
      "  </p>\n",
      "  <script data-cfasync=\"false\">\n",
      "   var dd={'cid':'AHrlqAAAAAMACq9PNRoEamAAm0XBPw==','hsh':'1A2CDFCDF412CD9D3C93BB2E078906','t':'bv','s':37868,'e':'a336ad1bfd7daeef4213639743631e19f73f276e4576b996c05703e9ca94dfe9','host':'geo.captcha-delivery.com'}\n",
      "  </script>\n",
      "  <script data-cfasync=\"false\" src=\"https://ct.captcha-delivery.com/c.js\">\n",
      "  </script>\n",
      " </body>\n",
      "</html>\n",
      "\n"
     ]
    }
   ],
   "source": [
    "headers = {\n",
    "    \"User-Agent\": \n",
    "    \"Mozilla/5.0 (Windows NT 10.0; Win64; x64) AppleWebKit/537.36 (KHTML, like Gecko) Chrome/98.0.4758.87 Safari/537.36\",\n",
    "}\n",
    "\n",
    "link = \"https://www.klook.com/en-SG/search/result/?query=switzerland\"\n",
    "soup_source = requests.get(link).text\n",
    "soup = BeautifulSoup(soup_source,'html.parser')\n",
    "\n",
    "print(soup.prettify())"
   ]
  },
  {
   "cell_type": "code",
   "execution_count": 6,
   "metadata": {},
   "outputs": [
    {
     "data": {
      "text/plain": [
       "'<html><head><title>klook.com</title><style>#cmsg{animation: A 1.5s;}@keyframes A{0%{opacity:0;}99%{opacity:0;}100%{opacity:1;}}</style></head><body style=\"margin:0\"><p id=\"cmsg\">Please enable JS and disable any ad blocker</p><script data-cfasync=\"false\">var dd={\\'cid\\':\\'AHrlqAAAAAMA7R9dzQ2RKWkAm0XBPw==\\',\\'hsh\\':\\'1A2CDFCDF412CD9D3C93BB2E078906\\',\\'t\\':\\'bv\\',\\'s\\':37868,\\'e\\':\\'e4dfebe374cb04c409685f7c507b3b47090ec548dde8f9a061fb0e1219227922\\',\\'host\\':\\'geo.captcha-delivery.com\\'}</script><script data-cfasync=\"false\" src=\"https://ct.captcha-delivery.com/c.js\"></script></body></html>\\n'"
      ]
     },
     "execution_count": 6,
     "metadata": {},
     "output_type": "execute_result"
    }
   ],
   "source": [
    "soup_source"
   ]
  },
  {
   "cell_type": "code",
   "execution_count": null,
   "metadata": {},
   "outputs": [],
   "source": []
  }
 ],
 "metadata": {
  "kernelspec": {
   "display_name": "Python 3 (ipykernel)",
   "language": "python",
   "name": "python3"
  },
  "language_info": {
   "codemirror_mode": {
    "name": "ipython",
    "version": 3
   },
   "file_extension": ".py",
   "mimetype": "text/x-python",
   "name": "python",
   "nbconvert_exporter": "python",
   "pygments_lexer": "ipython3",
   "version": "3.9.13"
  },
  "vscode": {
   "interpreter": {
    "hash": "aee8b7b246df8f9039afb4144a1f6fd8d2ca17a180786b69acc140d282b71a49"
   }
  }
 },
 "nbformat": 4,
 "nbformat_minor": 2
}
